{
 "cells": [
  {
   "cell_type": "code",
   "execution_count": 5,
   "id": "557cb453",
   "metadata": {},
   "outputs": [],
   "source": [
    "import os\n",
    "import sys\n",
    "sys.path.append(os.path.abspath(\"..\"))\n",
    "from src.utils import generate_toy_data, load_toy_data, save_toy_data"
   ]
  },
  {
   "cell_type": "code",
   "execution_count": 9,
   "id": "3103a6e9",
   "metadata": {},
   "outputs": [
    {
     "name": "stdout",
     "output_type": "stream",
     "text": [
      "Toy data generado y guardado (train=8000, val=2000)\n"
     ]
    }
   ],
   "source": [
    "PROJECT_ROOT = os.path.abspath(os.path.join(os.getcwd(), \"..\"))\n",
    "DATA_PATH = os.path.join(PROJECT_ROOT, \"data\", \"toy_seq2seq.json\")\n",
    "\n",
    "if os.path.exists(DATA_PATH):\n",
    "    train_data, val_data, test_data = load_toy_data(DATA_PATH)\n",
    "    print(f\"Toy data cargado (train={len(train_data)}, val={len(val_data)})\")\n",
    "else:\n",
    "    train_data, val_data = generate_toy_data()\n",
    "    os.makedirs(os.path.dirname(DATA_PATH), exist_ok=True)\n",
    "    save_toy_data(train_data, val_data, DATA_PATH)\n",
    "    print(f\"Toy data generado y guardado (train={len(train_data)}, val={len(val_data)})\")"
   ]
  },
  {
   "cell_type": "code",
   "execution_count": 10,
   "id": "e5d66ff7",
   "metadata": {},
   "outputs": [
    {
     "name": "stdout",
     "output_type": "stream",
     "text": [
      "Train data: [('33+91', '124'), ('88+91', '179'), ('24+32', '56'), ('61+41', '102'), ('63+82', '145')]\n",
      "Val data: [('91+78', '169'), ('6+22', '28'), ('21+80', '101'), ('35+80', '115'), ('24+7', '31')]\n"
     ]
    }
   ],
   "source": [
    "print(f\"Train data: {train_data[:5]}\")\n",
    "print(f\"Val data: {val_data[:5]}\")"
   ]
  }
 ],
 "metadata": {
  "kernelspec": {
   "display_name": "venv",
   "language": "python",
   "name": "python3"
  },
  "language_info": {
   "codemirror_mode": {
    "name": "ipython",
    "version": 3
   },
   "file_extension": ".py",
   "mimetype": "text/x-python",
   "name": "python",
   "nbconvert_exporter": "python",
   "pygments_lexer": "ipython3",
   "version": "3.12.0"
  }
 },
 "nbformat": 4,
 "nbformat_minor": 5
}
