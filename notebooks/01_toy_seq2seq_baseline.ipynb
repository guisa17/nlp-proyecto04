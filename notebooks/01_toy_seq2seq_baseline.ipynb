{
 "cells": [
  {
   "cell_type": "markdown",
   "id": "da8b174b",
   "metadata": {},
   "source": [
    "## Baseline Seq2Seq para suma de enteros"
   ]
  },
  {
   "cell_type": "markdown",
   "id": "66dc3312",
   "metadata": {},
   "source": [
    "Entrenamos un modelo Seq2Seq baseline (sin atención) sobre un data toy de suma de enteros. Esto nos servirá para luego poder comparar variantes de atención."
   ]
  },
  {
   "cell_type": "markdown",
   "id": "9564b68c",
   "metadata": {},
   "source": [
    "### Carga y generación del toy-dataset"
   ]
  },
  {
   "cell_type": "code",
   "execution_count": null,
   "id": "557cb453",
   "metadata": {},
   "outputs": [],
   "source": [
    "import os\n",
    "import sys\n",
    "sys.path.append(os.path.abspath(\"..\"))\n",
    "from src.utils import generate_toy_data, load_toy_data, save_toy_data"
   ]
  },
  {
   "cell_type": "code",
   "execution_count": 9,
   "id": "3103a6e9",
   "metadata": {},
   "outputs": [
    {
     "name": "stdout",
     "output_type": "stream",
     "text": [
      "Toy data generado y guardado (train=8000, val=2000)\n"
     ]
    }
   ],
   "source": [
    "PROJECT_ROOT = os.path.abspath(os.path.join(os.getcwd(), \"..\"))\n",
    "DATA_PATH = os.path.join(PROJECT_ROOT, \"data\", \"toy_seq2seq.json\")\n",
    "\n",
    "if os.path.exists(DATA_PATH):\n",
    "    train_data, val_data, test_data = load_toy_data(DATA_PATH)\n",
    "    print(f\"Toy data cargado (train={len(train_data)}, val={len(val_data)})\")\n",
    "else:\n",
    "    train_data, val_data = generate_toy_data()\n",
    "    os.makedirs(os.path.dirname(DATA_PATH), exist_ok=True)\n",
    "    save_toy_data(train_data, val_data, DATA_PATH)\n",
    "    print(f\"Toy data generado y guardado (train={len(train_data)}, val={len(val_data)})\")"
   ]
  },
  {
   "cell_type": "code",
   "execution_count": 10,
   "id": "e5d66ff7",
   "metadata": {},
   "outputs": [
    {
     "name": "stdout",
     "output_type": "stream",
     "text": [
      "Train data: [('33+91', '124'), ('88+91', '179'), ('24+32', '56'), ('61+41', '102'), ('63+82', '145')]\n",
      "Val data: [('91+78', '169'), ('6+22', '28'), ('21+80', '101'), ('35+80', '115'), ('24+7', '31')]\n"
     ]
    }
   ],
   "source": [
    "print(f\"Train data: {train_data[:5]}\")\n",
    "print(f\"Val data: {val_data[:5]}\")"
   ]
  },
  {
   "cell_type": "markdown",
   "id": "f8849da1",
   "metadata": {},
   "source": [
    "### Entrenamiento y evaluación"
   ]
  },
  {
   "cell_type": "code",
   "execution_count": 15,
   "id": "d139e666",
   "metadata": {},
   "outputs": [],
   "source": [
    "# todo\n",
    "# from src.utils import CharTokenizer\n",
    "from src.seq2seq_baseline import Seq2SeqBaseline \n",
    "\n",
    "# tokenizer = CharTokenizer()\n",
    "# model = Seq2SeqBaseline(tokenizer, emb_size=32, hidden_size=64)"
   ]
  }
 ],
 "metadata": {
  "kernelspec": {
   "display_name": "venv",
   "language": "python",
   "name": "python3"
  },
  "language_info": {
   "codemirror_mode": {
    "name": "ipython",
    "version": 3
   },
   "file_extension": ".py",
   "mimetype": "text/x-python",
   "name": "python",
   "nbconvert_exporter": "python",
   "pygments_lexer": "ipython3",
   "version": "3.12.0"
  }
 },
 "nbformat": 4,
 "nbformat_minor": 5
}
